{
 "cells": [
  {
   "cell_type": "code",
   "execution_count": 1,
   "metadata": {},
   "outputs": [
    {
     "name": "stderr",
     "output_type": "stream",
     "text": [
      "C:\\ProgramData\\Anaconda3\\lib\\site-packages\\h5py\\__init__.py:34: FutureWarning: Conversion of the second argument of issubdtype from `float` to `np.floating` is deprecated. In future, it will be treated as `np.float64 == np.dtype(float).type`.\n",
      "  from ._conv import register_converters as _register_converters\n"
     ]
    }
   ],
   "source": [
    "#import\n",
    "import numpy as np\n",
    "from scipy.misc import imread, imresize, imsave\n",
    "from PIL import Image\n",
    "import os\n",
    "import glob\n",
    "\n",
    "import tensorflow as tf\n",
    "from tensorflow import keras\n",
    "import matplotlib\n",
    "matplotlib.use('TKAgg')\n",
    "\n",
    "import matplotlib.pyplot as plt\n",
    "\n",
    "import time\n",
    "import random\n",
    "from tqdm import tqdm, trange"
   ]
  },
  {
   "cell_type": "code",
   "execution_count": null,
   "metadata": {},
   "outputs": [],
   "source": [
    "# https://blog.naver.com/whdgml1996/221283253466\n",
    "# Data Preprocessing\n",
    "\n",
    "x_train = tf.Session()\n",
    "y_train = tf.Session()\n",
    "x_test = tf.Session()\n",
    "y_test = tf.Session()\n",
    "\n",
    "# 폴더에서 파일 이름을 읽어서 이름에 따라 indexing\n",
    "nameArr = ['소방차', '화재경', '비상벨'] # class를 정의하는 배열\n",
    "tempArr = []\n",
    "jpgList = glob.glob(\"*.jpg\")\n",
    "for i in range(len(jpgList)):\n",
    "    for j in range(len(nameArr)):\n",
    "        if (jpgList[i][0:3]==nameArr[j]):\n",
    "            tempIndex = []\n",
    "            tempIndex.append(j)\n",
    "            tempArr.append(tempIndex)\n",
    "            \n",
    "print('y_train에 해당하는 one hot encoding할 배열', end = ' : ')\n",
    "print(tempArr)"
   ]
  },
  {
   "cell_type": "code",
   "execution_count": null,
   "metadata": {},
   "outputs": [],
   "source": [
    "\"\"\"\n",
    "0. 실제로 데이터셋 많이 쌓기\n",
    "1. train, test data set을 tensor로 만들기\n",
    "2. Conv-ReLU-Pool-Conv-ReLLU-Pool-Conv-ReLU-Pool-Fully 모델 생성\n",
    "3. Backpropagation\n",
    "4. test data set으로 accuracy, loss 측정\n",
    "\"\"\""
   ]
  },
  {
   "cell_type": "code",
   "execution_count": null,
   "metadata": {
    "collapsed": true
   },
   "outputs": [],
   "source": []
  },
  {
   "cell_type": "code",
   "execution_count": null,
   "metadata": {
    "collapsed": true
   },
   "outputs": [],
   "source": []
  },
  {
   "cell_type": "markdown",
   "metadata": {},
   "source": [
    "## =============================="
   ]
  },
  {
   "cell_type": "markdown",
   "metadata": {},
   "source": [
    "### tensorflow pdf로 실험중\n",
    "https://github.com/Apress/pro-deep-learning-w-tensorflow/blob/master/9781484230954/Chapter3.ipynb"
   ]
  },
  {
   "cell_type": "code",
   "execution_count": null,
   "metadata": {},
   "outputs": [],
   "source": [
    "import tensorflow as tf\n",
    "import numpy as np\n",
    "import matplotlib.pyplot as plt\n",
    "%matplotlib inline\n",
    "import time\n",
    "\n",
    "from tensorflow.examples.tutorials.mnist import input_data\n",
    "mnist = input_data.read_data_sets(\"MNIST_data/\",one_hot=True)"
   ]
  },
  {
   "cell_type": "code",
   "execution_count": null,
   "metadata": {
    "collapsed": true
   },
   "outputs": [],
   "source": [
    "num_batches = mnist.train.num_examples/batch_size"
   ]
  },
  {
   "cell_type": "code",
   "execution_count": null,
   "metadata": {
    "collapsed": true
   },
   "outputs": [],
   "source": [
    "learning_rate = 0.01\n",
    "epochs = 20\n",
    "batch_size = 256\n",
    "input_height = 28\n",
    "input_width = 28\n",
    "n_classes = 10\n",
    "dropout = 0.75\n",
    "display_step = 1\n",
    "filter_height = 5\n",
    "filter_width = 5\n",
    "depth_in = 1\n",
    "depth_out1 = 64\n",
    "depth_out2 = 128"
   ]
  },
  {
   "cell_type": "code",
   "execution_count": null,
   "metadata": {},
   "outputs": [],
   "source": [
    "x = tf.placeholder(tf.float32,[None,28*28])\n",
    "y = tf.placeholder(tf.float32,[None,n_classes])\n",
    "keep_prob = tf.placeholder(tf.float32)\n",
    "\n",
    "weights = {\n",
    "'wc1' : tf.Variable(tf.random_normal([filter_height,filter_width,depth_in,depth_out1])),\n",
    "'wc2' : tf.Variable(tf.random_normal([filter_height,filter_width,depth_out1,depth_out2])),\n",
    "'wd1' : tf.Variable(tf.random_normal([(input_height/4)*(input_height/4)* depth_out2,1024])),\n",
    "'out' : tf.Variable(tf.random_normal([1024,n_classes]))\n",
    "}\n",
    "\n",
    "biases = {\n",
    "'bc1' : tf.Variable(tf.random_normal([64])),\n",
    "'bc2' : tf.Variable(tf.random_normal([128])),\n",
    "'bd1' : tf.Variable(tf.random_normal([1024])),\n",
    "'out' : tf.Variable(tf.random_normal([n_classes]))\n",
    "}"
   ]
  },
  {
   "cell_type": "code",
   "execution_count": null,
   "metadata": {
    "collapsed": true
   },
   "outputs": [],
   "source": [
    "def conv2d(x, W, b, strides = 1):\n",
    "    x = tf.nn.conv2d(x, W, strides=[1, strides, strides, 1], padding = 'SAME')\n",
    "    x = tf.nn.bias_add(x, b)\n",
    "    return tf.nn.relu(x)\n",
    "\n",
    "def maxpool2d(x, stride = 2):\n",
    "    return tf.nn.max_pool(x, ksize = [1, stride, stride, 1], strides = [1, stride, stride, 1], padding = 'SAME')\n"
   ]
  },
  {
   "cell_type": "code",
   "execution_count": null,
   "metadata": {},
   "outputs": [],
   "source": [
    "def conv_net(x, weights, biases, dropout):\n",
    "    x = tf.reshape(x, shape = [-1, 28, 28, 1])\n",
    "    conv1 = conv2d(x, weights['wc1'], biases['bc1'])\n",
    "    conv1 = maxpool2d(conv1, 2)\n",
    "    \n",
    "    conv2 = conv2d(conv1, weights['wc2'], biases['bc2'])\n",
    "    conv2 = maxpool2d(conv2, 2)\n",
    "    \n",
    "    fc1 = tf.reshape(conv2, [-1, weights['wd1'].get_shape().as_list()[0]])\n",
    "    fc1 = tf.add(tf.matmul(fc1, weights['wd1']), biases['bd1'])\n",
    "    fc1 = tf.nn.relu(fc1)\n",
    "    \n",
    "    fc1 = tf.nn.dropout(fc1, dropout)\n",
    "    \n",
    "    out = tf.add(tf.matmul(fc1, weights['out']), biases['out'])\n",
    "    return out"
   ]
  },
  {
   "cell_type": "code",
   "execution_count": null,
   "metadata": {},
   "outputs": [],
   "source": [
    "pred = conv_net(x,weights,biases,keep_prob)\n",
    "# Define loss function and optimizer\n",
    "cost = tf.reduce_mean(tf.nn.softmax_cross_entropy_with_logits(logits=pred,labels=y))\n",
    "optimizer = tf.train.AdamOptimizer(learning_rate=learning_rate).minimize(cost)\n",
    "# Evaluate model\n",
    "correct_pred = tf.equal(tf.argmax(pred,1),tf.argmax(y,1))\n",
    "accuracy = tf.reduce_mean(tf.cast(correct_pred,tf.float32))\n",
    "## initializing all variables\n",
    "init = tf.global_variables_initializer()"
   ]
  },
  {
   "cell_type": "markdown",
   "metadata": {
    "collapsed": true
   },
   "source": [
    "### ref.0"
   ]
  },
  {
   "cell_type": "code",
   "execution_count": null,
   "metadata": {
    "collapsed": true
   },
   "outputs": [],
   "source": [
    "# https://blog.naver.com/whdgml1996/221283253466\n",
    "\n",
    "# Data Preprocessing\n",
    "nameArr = ['소방차', '화재경', '비상벨']\n",
    "\n",
    "def one_hot(i):\n",
    "    a = np.zeros(len(nameArr), 'uint8')\n",
    "    a[i] = 1\n",
    "    return a\n",
    "\n",
    "jpgList = glob.glob(\"*.jpg\")\n",
    "x_train = []\n",
    "y_train = []\n",
    "for i in range(len(jpgList)):\n",
    "    x_train.append(imread(jpgList[i]))\n",
    "    for j in range(len(nameArr)):\n",
    "        if(jpgList[i][0:3]==nameArr[j]):\n",
    "            y_train.append(one_hot(j))"
   ]
  },
  {
   "cell_type": "code",
   "execution_count": null,
   "metadata": {
    "collapsed": true
   },
   "outputs": [],
   "source": [
    "learning_rate = 0.001\n",
    "batch_size = 500\n",
    "training_epochs = 500\n",
    "\n",
    "# 64 64로 변환 - 방법1\n",
    "#x_train = tf.reshape(x_train[0], shape = [64, 64, -1])\n",
    "#print(x_train.shape)\n",
    "\n",
    "# 64 64로 변환 - 방법2\n",
    "#x_train = tf.placeholder(\"float\", [None, 64, 64, 1])"
   ]
  },
  {
   "cell_type": "code",
   "execution_count": null,
   "metadata": {
    "collapsed": true
   },
   "outputs": [],
   "source": [
    "# test, train data set은 임의로 train을 복사\n",
    "x_test = x_train\n",
    "y_test = y_train"
   ]
  },
  {
   "cell_type": "code",
   "execution_count": null,
   "metadata": {
    "collapsed": true
   },
   "outputs": [],
   "source": [
    "# CRPCRPCRF -> Backpropagation -> print Score"
   ]
  },
  {
   "cell_type": "code",
   "execution_count": null,
   "metadata": {},
   "outputs": [],
   "source": [
    "# http://blog.aloni.org/posts/backprop-with-tensorflow/\n",
    "print('x_train shape : ', x_train.shape)\n",
    "print('y_train shape : ', y_train.shape)\n",
    "print('x_test shape : ', x_test.shape)\n",
    "print('y_test shape : ', y_test.shape)"
   ]
  },
  {
   "cell_type": "markdown",
   "metadata": {},
   "source": [
    "### ref.1"
   ]
  },
  {
   "cell_type": "code",
   "execution_count": null,
   "metadata": {
    "collapsed": true
   },
   "outputs": [],
   "source": [
    "# tf.nn.conv2d(input, filter, strides, padding, use_cudnn_on_gpu=None, data_format=None, name=None)\n",
    "# https://cafe.naver.com/soynature/1234\n",
    "# https://github.com/nlintz/TensorFlow-Tutorials/blob/master/05_convolutional_net.py\n",
    "\n",
    "def init_weights(shape):\n",
    "    return tf.Variable(tf.random_normal(shape, stddev=0.01))\n",
    "\n",
    "w = init_weights([3, 3, 1, 32]) # filter 3*3*225, 32 outputs\n",
    "w2 = init_weights([3, 3, 32, 64]) # filter 3*3*32, 64 outputs\n",
    "w3 = init_weights([3, 3, 64, 128])\n",
    "w4 = init_weights([128 * 4 * 4, 625])\n",
    "w_o = init_weights([625, 3])\n",
    "\n",
    "p_keep_conv = tf.placeholder(\"float\")\n",
    "p_keep_hidden = tf.placeholder(\"float\")\n",
    "\n",
    "l1a = tf.nn.relu(tf.nn.conv2d(x_train, w, strides = [1,1,1,1], padding = 'SAME'))\n",
    "l1 = tf.nn.max_pool(l1a, ksize = [1, 2, 2, 1], strides = [1, 2, 2, 1], padding = 'SAME')\n",
    "l1 = tf.nn.dropout(l1, p_keep_conv)\n",
    "\n",
    "l2a = tf.nn.relu(tf.nn.conv2d(l1, w2, strides=[1, 1, 1, 1], padding='SAME'))\n",
    "l2 = tf.nn.max_pool(l2a, ksize=[1, 2, 2, 1], strides=[1, 2, 2, 1], padding='SAME')\n",
    "l2 = tf.nn.dropout(l2, p_keep_conv)\n",
    "\n",
    "l3a = tf.nn.relu(tf.nn.conv2d(l2, w3, strides=[1, 1, 1, 1], padding='SAME'))\n",
    "l3 = tf.nn.max_pool(l3a, ksize=[1, 2, 2, 1], strides=[1, 2, 2, 1], padding='SAME')\n",
    "l3 = tf.reshape(l3, [-1, w4.get_shape().as_list()[0]])\n",
    "l3 = tf.nn.dropout(l3, p_keep_conv)\n",
    "\n",
    "l4 = tf.nn.relu(tf.matmul(l3, w4))\n",
    "l4 = tf.nn.dropout(l4, p_keep_hidden)\n",
    "\n",
    "py_x = tf.matmul(l4, w_o)"
   ]
  },
  {
   "cell_type": "markdown",
   "metadata": {},
   "source": [
    "### ref.2"
   ]
  },
  {
   "cell_type": "code",
   "execution_count": null,
   "metadata": {
    "collapsed": true
   },
   "outputs": [],
   "source": [
    "# https://github.com/SphericalPotatoInVacuum/CNNDDDD/blob/master/cnn.py\n",
    "def create_model():\n",
    "    model = tf.keras.models.Sequential([\n",
    "        tf.keras.layers.Conv2D(filters=32, kernel_size=[5, 5], activation=tf.nn.relu,\n",
    "                               input_shape=[64, 64, 225]),\n",
    "        tf.keras.layers.MaxPool2D(pool_size=[2, 2], strides=2),\n",
    "        tf.keras.layers.Conv2D(filters=64, kernel_size=[5, 5], activation=tf.nn.relu),\n",
    "        tf.keras.layers.MaxPool2D(pool_size=[2, 2], strides=2),\n",
    "        tf.keras.layers.Flatten(),\n",
    "        tf.keras.layers.Dense(1024, activation=tf.nn.relu),\n",
    "        tf.keras.layers.Dropout(0.4),\n",
    "        tf.keras.layers.Dense(10, activation=tf.nn.softmax)\n",
    "    ])\n",
    "\n",
    "    model.compile(optimizer='adam',\n",
    "                  loss='sparse_categorical_crossentropy',\n",
    "                  metrics=['accuracy'])\n",
    "\n",
    "    return model"
   ]
  },
  {
   "cell_type": "markdown",
   "metadata": {},
   "source": [
    "### ref.3"
   ]
  },
  {
   "cell_type": "code",
   "execution_count": null,
   "metadata": {
    "collapsed": true
   },
   "outputs": [],
   "source": [
    "## 실험중-------------------------------------------------\n",
    "# Convolutional 64 64 225 * 필터 3 3 225 16개 stride 1, padding 1 -> 64\n",
    "W1 = tf.Variable(tf.truncated_normal(shape = [3, 3, 225, 64], stddev = 5e-2))\n",
    "b1 = tf.Variable(tf.constant(0.1, shape = [64]))\n",
    "print(W1.shape)\n",
    "print(b1.shape)\n",
    "# Activation Function ReLU\n",
    "L1 = tf.nn.relu(tf.nn.conv2d(X, W1, strides = [1, 1, 1, 1], padding = 'SAME')+b1)\n",
    "# Pooling \n",
    "L1 = tf.nn.max_pool(L1, ksize = [1, 2, 2, 1], strides = [1, 2, 2, 1], padding = 'SAME')\n",
    "# Dropout\n",
    "L1 = tf.nn.dropout(L1, keep_prob = keep_prob)\n",
    "\n",
    "# FC\n",
    "\n",
    "# CACAPCACAPCACAPF"
   ]
  }
 ],
 "metadata": {
  "kernelspec": {
   "display_name": "Python 3",
   "language": "python",
   "name": "python3"
  },
  "language_info": {
   "codemirror_mode": {
    "name": "ipython",
    "version": 3
   },
   "file_extension": ".py",
   "mimetype": "text/x-python",
   "name": "python",
   "nbconvert_exporter": "python",
   "pygments_lexer": "ipython3",
   "version": "3.7.3"
  }
 },
 "nbformat": 4,
 "nbformat_minor": 2
}
