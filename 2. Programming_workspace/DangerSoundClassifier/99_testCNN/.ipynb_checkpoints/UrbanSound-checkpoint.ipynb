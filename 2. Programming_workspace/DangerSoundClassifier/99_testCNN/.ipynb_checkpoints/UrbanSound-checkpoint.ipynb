{
 "cells": [
  {
   "cell_type": "code",
   "execution_count": 1,
   "metadata": {
    "collapsed": true
   },
   "outputs": [],
   "source": [
    "# https://tensorflow.blog/2016/11/06/urban-sound-classification/\n",
    "# model_321.ckpt : 만들어진 모델 파라메타\n",
    "# urban_sound.npz : 데이터셋\n",
    "\n",
    "# Sound classifier reference\n",
    "# https://blog.naver.com/slykid/221453948177"
   ]
  },
  {
   "cell_type": "code",
   "execution_count": null,
   "metadata": {
    "collapsed": true
   },
   "outputs": [],
   "source": [
    "sound_data = np.load('urban_sound.npz')\n",
    "\n",
    "n_hidden_units_one = 300\n",
    "n_hidden_units_two = 200\n",
    "n_hidden_units_three = 100\n",
    "\n",
    "X = tf.placeholder(tf.float32,[None,n_dim])\n",
    "Y = tf.placeholder(tf.float32,[None,n_classes])\n",
    "\n",
    "W_1 = tf.Variable(tf.random_normal([n_dim, n_hidden_units_one], mean=0, stddev=sd), name=\"w1\")\n",
    "b_1 = tf.Variable(tf.random_normal([n_hidden_units_one], mean=0, stddev=sd), name=\"b1\")\n",
    "h_1 = tf.nn.sigmoid(tf.matmul(X, W_1) + b_1)\n",
    "\n",
    "W_2 = tf.Variable(tf.random_normal([n_hidden_units_one, n_hidden_units_two], mean=0, stddev=sd), name=\"w2\")\n",
    "b_2 = tf.Variable(tf.random_normal([n_hidden_units_two], mean=0, stddev=sd), name=\"b2\")\n",
    "h_2 = tf.nn.tanh(tf.matmul(h_1, W_2) + b_2)\n",
    "\n",
    "W_3 = tf.Variable(tf.random_normal([n_hidden_units_two, n_hidden_units_three], mean=0, stddev=sd), name=\"w3\")\n",
    "b_3 = tf.Variable(tf.random_normal([n_hidden_units_three], mean=0, stddev=sd), name=\"b3\")\n",
    "h_3 = tf.nn.sigmoid(tf.matmul(h_2, W_3) + b_3)\n",
    "\n",
    "W = tf.Variable(tf.random_normal([n_hidden_units_three, n_classes], mean=0, stddev=sd), name=\"w\")\n",
    "b = tf.Variable(tf.random_normal([n_classes], mean = 0, stddev=sd), name=\"b\")\n",
    "y_ = tf.nn.softmax(tf.matmul(h_3, W) + b)\n",
    "\n",
    "cost_history = np.empty(shape=[1],dtype=float)\n",
    "with tf.Session() as sess:\n",
    "    sess.run(init)\n",
    "    for epoch in range(training_epochs):\n",
    "        _,cost = sess.run([optimizer, cost_function], feed_dict={X: X_sub, Y: y_sub})\n",
    "        cost_history = np.append(cost_history,cost)\n",
    " \n",
    "    print('Validation accuracy: ',round(sess.run(accuracy, feed_dict={X: X_test, Y: y_test}) , 3))\n",
    "    saver.save(sess, \"model_321.ckpt\")\n",
    "    \n",
    "    "
   ]
  },
  {
   "cell_type": "code",
   "execution_count": 1,
   "metadata": {
    "collapsed": true
   },
   "outputs": [],
   "source": []
  },
  {
   "cell_type": "code",
   "execution_count": null,
   "metadata": {
    "collapsed": true
   },
   "outputs": [],
   "source": []
  },
  {
   "cell_type": "code",
   "execution_count": null,
   "metadata": {
    "collapsed": true
   },
   "outputs": [],
   "source": []
  }
 ],
 "metadata": {
  "kernelspec": {
   "display_name": "Python 3",
   "language": "python",
   "name": "python3"
  },
  "language_info": {
   "codemirror_mode": {
    "name": "ipython",
    "version": 3
   },
   "file_extension": ".py",
   "mimetype": "text/x-python",
   "name": "python",
   "nbconvert_exporter": "python",
   "pygments_lexer": "ipython3",
   "version": "3.6.1"
  }
 },
 "nbformat": 4,
 "nbformat_minor": 2
}
