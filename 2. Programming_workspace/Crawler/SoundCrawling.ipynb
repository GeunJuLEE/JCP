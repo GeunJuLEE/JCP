{
 "cells": [
  {
   "cell_type": "code",
   "execution_count": 10,
   "metadata": {
    "collapsed": true
   },
   "outputs": [],
   "source": [
    "# url 저장 배열\n",
    "Horn = [\n",
    "    \"https://www.youtube.com/watch?v=i9ADKqS5LBg\",\n",
    "    \"https://www.youtube.com/watch?v=HsxeUeKfd90\",\n",
    "    \"https://www.youtube.com/watch?v=K8Sm67RHB_s\"\n",
    "]\n",
    "\n",
    "ambulance = [\n",
    "    \"https://www.youtube.com/watch?v=xCZEr2BchbU\", #0:25~0:29\n",
    "    \"https://www.youtube.com/watch?v=haqqpOFTgII\", #noise 많음\n",
    "    \"https://www.youtube.com/watch?v=-2YWkWhIVtQ\" #noise 많음, 0:00~0:17까지\n",
    "]\n",
    "\n",
    "fireTruck = [\n",
    "    \"https://www.youtube.com/watch?v=xCZEr2BchbU\", #0:15~0:18\n",
    "    \"https://www.youtube.com/watch?v=hxVD4fA2YxM\",\n",
    "    \"https://www.youtube.com/watch?v=gXnRkrYyFNg&t=23s\"\n",
    "]\n",
    "\n",
    "fireAlarm = [\n",
    "    \"https://www.youtube.com/watch?v=GbvOrpW3yo8\",\n",
    "    \"https://www.youtube.com/watch?v=CGxd9FOCLfQ\",\n",
    "    \"https://www.youtube.com/watch?v=9v2TOr2aWX0\" # 5:52 ~ 6:09\n",
    "]\n",
    "\n",
    "# url 저장 배열의 배열\n",
    "ClassName1 = [\n",
    "    'fireTruck',\n",
    "    'ambulance',\n",
    "    'fireAlarm',\n",
    "    'Horn'\n",
    "]\n",
    "\n",
    "ClassName2 = {\n",
    "    'fireTruck':fireTruck,\n",
    "    'ambulance':ambulance,\n",
    "    'fireAlarm':fireAlarm,\n",
    "    'Horn':Horn\n",
    "}"
   ]
  },
  {
   "cell_type": "code",
   "execution_count": 11,
   "metadata": {
    "collapsed": true
   },
   "outputs": [],
   "source": [
    "def checkNumber(string):\n",
    "    if(string[0]=='1' or string[0]=='2' or string[0]=='3' or string[0]=='4' or string[0]=='5' or string[0]=='6' or string[0]=='7' or string[0]=='8' or string[0]=='9'):\n",
    "        return int(string[0:])\n",
    "    elif(string[1]=='1' or string[1]=='2' or string[1]=='3' or string[1]=='4' or string[1]=='5' or string[1]=='6' or string[1]=='7' or string[1]=='8' or string[1]=='9'):\n",
    "        return int(string[1:])\n",
    "    else:\n",
    "        return int(string[2])"
   ]
  },
  {
   "cell_type": "code",
   "execution_count": 12,
   "metadata": {},
   "outputs": [
    {
     "name": "stdout",
     "output_type": "stream",
     "text": [
      "========================================\n",
      "Last save file number is 7\n",
      "Title: 순찰차, 구급차, 앰뷸런스 사이렌 소리의 다른 점은?\n",
      "Author: 경찰청(폴인러브)\n",
      "ID: xCZEr2BchbU\n",
      "Duration: 00:00:44\n",
      "Rating: None\n",
      "Views: 268908\n",
      "Thumbnail: http://i.ytimg.com/vi/xCZEr2BchbU/default.jpg\n",
      "audio:webm@160k\n",
      "---------------------------eceived. Rate: [ 144 KB/s].  ETA: [0 secs]    \n",
      "Title: 소방차 경찰차 구급차 사이렌 소리(fire engine, patrol car, ambulance sound)\n",
      "Author: 내일의조\n",
      "ID: hxVD4fA2YxM\n",
      "Duration: 00:23:15\n",
      "Rating: None\n",
      "Views: 18229\n",
      "Thumbnail: http://i.ytimg.com/vi/hxVD4fA2YxM/default.jpg\n",
      "audio:m4a@128k\n",
      "---------------------------eceived. Rate: [ 982 KB/s].  ETA: [0 secs]    \n",
      "Title: [백색소음] 구급차 싸이렌 소리\n",
      "Author: 소음 _ 騷音 noise\n",
      "ID: gXnRkrYyFNg\n",
      "Duration: 00:30:00\n",
      "Rating: None\n",
      "Views: 20347\n",
      "Thumbnail: http://i.ytimg.com/vi/gXnRkrYyFNg/default.jpg\n",
      "audio:m4a@128k\n",
      "---------------------------eceived. Rate: [1318 KB/s].  ETA: [0 secs]    \n"
     ]
    }
   ],
   "source": [
    "from bs4 import BeautifulSoup as bs\n",
    "import requests\n",
    "import pafy\n",
    "import webbrowser\n",
    "import os\n",
    "import glob\n",
    "\n",
    "def geturl(val):\n",
    "    s = \"i.ytimg.com/vi/\"\n",
    "    return val[val.find(s)+len(s):val.find(s)+len(s)+11]\n",
    "\n",
    "#for i in range(len(ClassName1)):\n",
    "for i in range(1):\n",
    "    keyword = ClassName1[i]\n",
    "    directoryName = \"Tempsound/\"+keyword\n",
    "    if not(os.path.isdir(directoryName)):\n",
    "        os.makedirs(os.path.join(directoryName))\n",
    "    fileList = glob.glob(directoryName+\"/*.wav\")\n",
    "    # 10의 자리개의 파일이 되면 9보다 10을 큰수로 인식하는 함수 필요\n",
    "    curNum = checkNumber(fileList[-1][-7:-4])+1\n",
    "    print(\"========================================\")\n",
    "    print(\"Last save file number is \" + str(curNum-1))\n",
    "    for j in range(len(ClassName2[keyword])):\n",
    "        try:            \n",
    "            originUrl = ClassName2[keyword][j]\n",
    "            r = requests.get(originUrl+'\"topic\"').text\n",
    "            url = geturl(r)\n",
    "            video = pafy.new(url)\n",
    "            print(video)\n",
    "            bestaudio = video.getbestaudio()\n",
    "            print(bestaudio)\n",
    "            url = bestaudio.url\n",
    "            SaveName = keyword\n",
    "            bestaudio.download(directoryName+\"/\"+keyword+str(j+curNum)+\".wav\")\n",
    "            print(\"---------------------------\")  \n",
    "        except:\n",
    "            print(\"error\")\n",
    "            break"
   ]
  },
  {
   "cell_type": "code",
   "execution_count": null,
   "metadata": {
    "collapsed": true
   },
   "outputs": [],
   "source": []
  },
  {
   "cell_type": "code",
   "execution_count": null,
   "metadata": {
    "collapsed": true
   },
   "outputs": [],
   "source": []
  }
 ],
 "metadata": {
  "kernelspec": {
   "display_name": "Python 3",
   "language": "python",
   "name": "python3"
  },
  "language_info": {
   "codemirror_mode": {
    "name": "ipython",
    "version": 3
   },
   "file_extension": ".py",
   "mimetype": "text/x-python",
   "name": "python",
   "nbconvert_exporter": "python",
   "pygments_lexer": "ipython3",
   "version": "3.6.1"
  }
 },
 "nbformat": 4,
 "nbformat_minor": 2
}
