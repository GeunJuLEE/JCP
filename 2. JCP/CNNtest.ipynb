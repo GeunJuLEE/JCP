{
 "cells": [
  {
   "cell_type": "code",
   "execution_count": 1,
   "metadata": {},
   "outputs": [
    {
     "name": "stderr",
     "output_type": "stream",
     "text": [
      "C:\\ProgramData\\Anaconda3\\lib\\site-packages\\h5py\\__init__.py:34: FutureWarning: Conversion of the second argument of issubdtype from `float` to `np.floating` is deprecated. In future, it will be treated as `np.float64 == np.dtype(float).type`.\n",
      "  from ._conv import register_converters as _register_converters\n"
     ]
    }
   ],
   "source": [
    "#import\n",
    "import numpy as np\n",
    "from scipy.misc import imread, imresize, imsave\n",
    "from PIL import Image\n",
    "import os\n",
    "import glob\n",
    "\n",
    "import tensorflow as tf\n",
    "from tensorflow import keras\n",
    "import matplotlib\n",
    "matplotlib.use('TKAgg')\n",
    "import matplotlib.pyplot as plt\n",
    "\n",
    "import time\n",
    "import random\n",
    "from tqdm import tqdm, trange"
   ]
  },
  {
   "cell_type": "code",
   "execution_count": 37,
   "metadata": {},
   "outputs": [
    {
     "name": "stdout",
     "output_type": "stream",
     "text": [
      "y_train에 해당하는 one hot encoding할 배열 : [[2], [0]]\n"
     ]
    }
   ],
   "source": [
    "# https://blog.naver.com/whdgml1996/221283253466\n",
    "# Data Preprocessing\n",
    "\n",
    "x_train = tf.Session()\n",
    "y_train = tf.Session()\n",
    "x_test = tf.Session()\n",
    "y_test = tf.Session()\n",
    "\n",
    "# 폴더에서 파일 이름을 읽어서 이름에 따라 indexing\n",
    "nameArr = ['소방차', '화재경', '비상벨'] # class를 정의하는 배열\n",
    "tempArr = []\n",
    "jpgList = glob.glob(\"*.jpg\")\n",
    "for i in range(len(jpgList)):\n",
    "    for j in range(len(nameArr)):\n",
    "        if (jpgList[i][0:3]==nameArr[j]):\n",
    "            tempIndex = []\n",
    "            tempIndex.append(j)\n",
    "            tempArr.append(tempIndex)\n",
    "            \n",
    "print('y_train에 해당하는 one hot encoding할 배열', end = ' : ')\n",
    "print(tempArr)"
   ]
  },
  {
   "cell_type": "code",
   "execution_count": 38,
   "metadata": {},
   "outputs": [
    {
     "data": {
      "text/plain": [
       "'\\n0. 실제로 데이터셋 많이 쌓기\\n1. train, test data set을 tensor로 만들기\\n2. Conv-ReLU-Pool-Conv-ReLLU-Pool-Conv-ReLU-Pool-Fully 모델 생성\\n3. Backpropagation\\n4. test data set으로 accuracy, loss 측정\\n'"
      ]
     },
     "execution_count": 38,
     "metadata": {},
     "output_type": "execute_result"
    }
   ],
   "source": [
    "\"\"\"\n",
    "0. 실제로 데이터셋 많이 쌓기\n",
    "1. train, test data set을 tensor로 만들기\n",
    "2. Conv-ReLU-Pool-Conv-ReLLU-Pool-Conv-ReLU-Pool-Fully 모델 생성\n",
    "3. Backpropagation\n",
    "4. test data set으로 accuracy, loss 측정\n",
    "\"\"\""
   ]
  },
  {
   "cell_type": "code",
   "execution_count": null,
   "metadata": {
    "collapsed": true
   },
   "outputs": [],
   "source": []
  },
  {
   "cell_type": "code",
   "execution_count": null,
   "metadata": {
    "collapsed": true
   },
   "outputs": [],
   "source": []
  },
  {
   "cell_type": "code",
   "execution_count": null,
   "metadata": {
    "collapsed": true
   },
   "outputs": [],
   "source": []
  },
  {
   "cell_type": "code",
   "execution_count": null,
   "metadata": {
    "collapsed": true
   },
   "outputs": [],
   "source": []
  },
  {
   "cell_type": "code",
   "execution_count": null,
   "metadata": {
    "collapsed": true
   },
   "outputs": [],
   "source": []
  },
  {
   "cell_type": "code",
   "execution_count": null,
   "metadata": {
    "collapsed": true
   },
   "outputs": [],
   "source": []
  },
  {
   "cell_type": "code",
   "execution_count": null,
   "metadata": {
    "collapsed": true
   },
   "outputs": [],
   "source": []
  },
  {
   "cell_type": "code",
   "execution_count": null,
   "metadata": {
    "collapsed": true
   },
   "outputs": [],
   "source": []
  },
  {
   "cell_type": "code",
   "execution_count": 20,
   "metadata": {},
   "outputs": [],
   "source": [
    "# https://blog.naver.com/whdgml1996/221283253466\n",
    "\n",
    "# Data Preprocessing\n",
    "nameArr = ['소방차', '화재경', '비상벨']\n",
    "\n",
    "def one_hot(i):\n",
    "    a = np.zeros(len(nameArr), 'uint8')\n",
    "    a[i] = 1\n",
    "    return a\n",
    "\n",
    "jpgList = glob.glob(\"*.jpg\")\n",
    "x_train = []\n",
    "y_train = []\n",
    "for i in range(len(jpgList)):\n",
    "    x_train.append(imread(jpgList[i]))\n",
    "    for j in range(len(nameArr)):\n",
    "        if(jpgList[i][0:3]==nameArr[j]):\n",
    "            y_train.append(one_hot(j))"
   ]
  },
  {
   "cell_type": "code",
   "execution_count": 3,
   "metadata": {
    "collapsed": true
   },
   "outputs": [],
   "source": [
    "learning_rate = 0.001\n",
    "batch_size = 500\n",
    "training_epochs = 500\n",
    "\n",
    "# 64 64로 변환 - 방법1\n",
    "#x_train = tf.reshape(x_train[0], shape = [64, 64, -1])\n",
    "#print(x_train.shape)\n",
    "\n",
    "# 64 64로 변환 - 방법2\n",
    "#x_train = tf.placeholder(\"float\", [None, 64, 64, 1])"
   ]
  },
  {
   "cell_type": "code",
   "execution_count": 4,
   "metadata": {
    "collapsed": true
   },
   "outputs": [],
   "source": [
    "# test, train data set은 임의로 train을 복사\n",
    "x_test = x_train\n",
    "y_test = y_train"
   ]
  },
  {
   "cell_type": "code",
   "execution_count": 13,
   "metadata": {
    "collapsed": true
   },
   "outputs": [],
   "source": [
    "# CRPCRPCRF -> Backpropagation -> print Score"
   ]
  },
  {
   "cell_type": "code",
   "execution_count": 16,
   "metadata": {},
   "outputs": [
    {
     "name": "stdout",
     "output_type": "stream",
     "text": [
      "x_train shape :  (?, 64, 64, 1)\n"
     ]
    },
    {
     "ename": "AttributeError",
     "evalue": "'list' object has no attribute 'shape'",
     "output_type": "error",
     "traceback": [
      "\u001b[1;31m---------------------------------------------------------------------------\u001b[0m",
      "\u001b[1;31mAttributeError\u001b[0m                            Traceback (most recent call last)",
      "\u001b[1;32m<ipython-input-16-ab479b857b7f>\u001b[0m in \u001b[0;36m<module>\u001b[1;34m()\u001b[0m\n\u001b[0;32m      1\u001b[0m \u001b[1;31m# http://blog.aloni.org/posts/backprop-with-tensorflow/\u001b[0m\u001b[1;33m\u001b[0m\u001b[1;33m\u001b[0m\u001b[0m\n\u001b[0;32m      2\u001b[0m \u001b[0mprint\u001b[0m\u001b[1;33m(\u001b[0m\u001b[1;34m'x_train shape : '\u001b[0m\u001b[1;33m,\u001b[0m \u001b[0mx_train\u001b[0m\u001b[1;33m.\u001b[0m\u001b[0mshape\u001b[0m\u001b[1;33m)\u001b[0m\u001b[1;33m\u001b[0m\u001b[0m\n\u001b[1;32m----> 3\u001b[1;33m \u001b[0mprint\u001b[0m\u001b[1;33m(\u001b[0m\u001b[1;34m'y_train shape : '\u001b[0m\u001b[1;33m,\u001b[0m \u001b[0my_train\u001b[0m\u001b[1;33m.\u001b[0m\u001b[0mshape\u001b[0m\u001b[1;33m)\u001b[0m\u001b[1;33m\u001b[0m\u001b[0m\n\u001b[0m\u001b[0;32m      4\u001b[0m \u001b[0mprint\u001b[0m\u001b[1;33m(\u001b[0m\u001b[1;34m'x_test shape : '\u001b[0m\u001b[1;33m,\u001b[0m \u001b[0mx_test\u001b[0m\u001b[1;33m.\u001b[0m\u001b[0mshape\u001b[0m\u001b[1;33m)\u001b[0m\u001b[1;33m\u001b[0m\u001b[0m\n\u001b[0;32m      5\u001b[0m \u001b[0mprint\u001b[0m\u001b[1;33m(\u001b[0m\u001b[1;34m'y_test shape : '\u001b[0m\u001b[1;33m,\u001b[0m \u001b[0my_test\u001b[0m\u001b[1;33m.\u001b[0m\u001b[0mshape\u001b[0m\u001b[1;33m)\u001b[0m\u001b[1;33m\u001b[0m\u001b[0m\n",
      "\u001b[1;31mAttributeError\u001b[0m: 'list' object has no attribute 'shape'"
     ]
    }
   ],
   "source": [
    "# http://blog.aloni.org/posts/backprop-with-tensorflow/\n",
    "print('x_train shape : ', x_train.shape)\n",
    "print('y_train shape : ', y_train.shape)\n",
    "print('x_test shape : ', x_test.shape)\n",
    "print('y_test shape : ', y_test.shape)"
   ]
  },
  {
   "cell_type": "code",
   "execution_count": null,
   "metadata": {
    "collapsed": true
   },
   "outputs": [],
   "source": []
  },
  {
   "cell_type": "code",
   "execution_count": null,
   "metadata": {
    "collapsed": true
   },
   "outputs": [],
   "source": []
  },
  {
   "cell_type": "code",
   "execution_count": null,
   "metadata": {
    "collapsed": true
   },
   "outputs": [],
   "source": []
  },
  {
   "cell_type": "code",
   "execution_count": null,
   "metadata": {
    "collapsed": true
   },
   "outputs": [],
   "source": []
  },
  {
   "cell_type": "code",
   "execution_count": null,
   "metadata": {
    "collapsed": true
   },
   "outputs": [],
   "source": []
  },
  {
   "cell_type": "code",
   "execution_count": null,
   "metadata": {
    "collapsed": true
   },
   "outputs": [],
   "source": []
  },
  {
   "cell_type": "code",
   "execution_count": null,
   "metadata": {
    "collapsed": true
   },
   "outputs": [],
   "source": []
  },
  {
   "cell_type": "code",
   "execution_count": null,
   "metadata": {
    "collapsed": true
   },
   "outputs": [],
   "source": []
  },
  {
   "cell_type": "markdown",
   "metadata": {},
   "source": [
    "### ref.1"
   ]
  },
  {
   "cell_type": "code",
   "execution_count": 9,
   "metadata": {},
   "outputs": [],
   "source": [
    "# tf.nn.conv2d(input, filter, strides, padding, use_cudnn_on_gpu=None, data_format=None, name=None)\n",
    "# https://cafe.naver.com/soynature/1234\n",
    "# https://github.com/nlintz/TensorFlow-Tutorials/blob/master/05_convolutional_net.py\n",
    "\n",
    "def init_weights(shape):\n",
    "    return tf.Variable(tf.random_normal(shape, stddev=0.01))\n",
    "\n",
    "w = init_weights([3, 3, 1, 32]) # filter 3*3*225, 32 outputs\n",
    "w2 = init_weights([3, 3, 32, 64]) # filter 3*3*32, 64 outputs\n",
    "w3 = init_weights([3, 3, 64, 128])\n",
    "w4 = init_weights([128 * 4 * 4, 625])\n",
    "w_o = init_weights([625, 3])\n",
    "\n",
    "p_keep_conv = tf.placeholder(\"float\")\n",
    "p_keep_hidden = tf.placeholder(\"float\")\n",
    "\n",
    "l1a = tf.nn.relu(tf.nn.conv2d(x_train, w, strides = [1,1,1,1], padding = 'SAME'))\n",
    "l1 = tf.nn.max_pool(l1a, ksize = [1, 2, 2, 1], strides = [1, 2, 2, 1], padding = 'SAME')\n",
    "l1 = tf.nn.dropout(l1, p_keep_conv)\n",
    "\n",
    "l2a = tf.nn.relu(tf.nn.conv2d(l1, w2, strides=[1, 1, 1, 1], padding='SAME'))\n",
    "l2 = tf.nn.max_pool(l2a, ksize=[1, 2, 2, 1], strides=[1, 2, 2, 1], padding='SAME')\n",
    "l2 = tf.nn.dropout(l2, p_keep_conv)\n",
    "\n",
    "l3a = tf.nn.relu(tf.nn.conv2d(l2, w3, strides=[1, 1, 1, 1], padding='SAME'))\n",
    "l3 = tf.nn.max_pool(l3a, ksize=[1, 2, 2, 1], strides=[1, 2, 2, 1], padding='SAME')\n",
    "l3 = tf.reshape(l3, [-1, w4.get_shape().as_list()[0]])\n",
    "l3 = tf.nn.dropout(l3, p_keep_conv)\n",
    "\n",
    "l4 = tf.nn.relu(tf.matmul(l3, w4))\n",
    "l4 = tf.nn.dropout(l4, p_keep_hidden)\n",
    "\n",
    "py_x = tf.matmul(l4, w_o)"
   ]
  },
  {
   "cell_type": "markdown",
   "metadata": {},
   "source": [
    "### ref.2"
   ]
  },
  {
   "cell_type": "code",
   "execution_count": null,
   "metadata": {
    "collapsed": true
   },
   "outputs": [],
   "source": [
    "# https://github.com/SphericalPotatoInVacuum/CNNDDDD/blob/master/cnn.py\n",
    "def create_model():\n",
    "    model = tf.keras.models.Sequential([\n",
    "        tf.keras.layers.Conv2D(filters=32, kernel_size=[5, 5], activation=tf.nn.relu,\n",
    "                               input_shape=[64, 64, 225]),\n",
    "        tf.keras.layers.MaxPool2D(pool_size=[2, 2], strides=2),\n",
    "        tf.keras.layers.Conv2D(filters=64, kernel_size=[5, 5], activation=tf.nn.relu),\n",
    "        tf.keras.layers.MaxPool2D(pool_size=[2, 2], strides=2),\n",
    "        tf.keras.layers.Flatten(),\n",
    "        tf.keras.layers.Dense(1024, activation=tf.nn.relu),\n",
    "        tf.keras.layers.Dropout(0.4),\n",
    "        tf.keras.layers.Dense(10, activation=tf.nn.softmax)\n",
    "    ])\n",
    "\n",
    "    model.compile(optimizer='adam',\n",
    "                  loss='sparse_categorical_crossentropy',\n",
    "                  metrics=['accuracy'])\n",
    "\n",
    "    return model"
   ]
  },
  {
   "cell_type": "markdown",
   "metadata": {},
   "source": [
    "### ref.3"
   ]
  },
  {
   "cell_type": "code",
   "execution_count": null,
   "metadata": {
    "collapsed": true
   },
   "outputs": [],
   "source": [
    "## 실험중-------------------------------------------------\n",
    "# Convolutional 64 64 225 * 필터 3 3 225 16개 stride 1, padding 1 -> 64\n",
    "W1 = tf.Variable(tf.truncated_normal(shape = [3, 3, 225, 64], stddev = 5e-2))\n",
    "b1 = tf.Variable(tf.constant(0.1, shape = [64]))\n",
    "print(W1.shape)\n",
    "print(b1.shape)\n",
    "# Activation Function ReLU\n",
    "L1 = tf.nn.relu(tf.nn.conv2d(X, W1, strides = [1, 1, 1, 1], padding = 'SAME')+b1)\n",
    "# Pooling \n",
    "L1 = tf.nn.max_pool(L1, ksize = [1, 2, 2, 1], strides = [1, 2, 2, 1], padding = 'SAME')\n",
    "# Dropout\n",
    "L1 = tf.nn.dropout(L1, keep_prob = keep_prob)\n",
    "\n",
    "# FC\n",
    "\n",
    "# CACAPCACAPCACAPF"
   ]
  }
 ],
 "metadata": {
  "kernelspec": {
   "display_name": "Python 3",
   "language": "python",
   "name": "python3"
  },
  "language_info": {
   "codemirror_mode": {
    "name": "ipython",
    "version": 3
   },
   "file_extension": ".py",
   "mimetype": "text/x-python",
   "name": "python",
   "nbconvert_exporter": "python",
   "pygments_lexer": "ipython3",
   "version": "3.6.1"
  }
 },
 "nbformat": 4,
 "nbformat_minor": 2
}
